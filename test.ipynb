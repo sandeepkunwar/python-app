{
    "cells": [
        {
            "cell_type": "code",
            "execution_count": 1,
            "metadata": {},
            "outputs": [
                {
                    "name": "stdout",
                    "output_type": "stream",
                    "text": "2\n"
                }
            ],
            "source": "print(1+1)"
        },
        {
            "cell_type": "code",
            "execution_count": 3,
            "metadata": {},
            "outputs": [
                {
                    "data": {
                        "text/html": "<div>\n<style scoped>\n    .dataframe tbody tr th:only-of-type {\n        vertical-align: middle;\n    }\n\n    .dataframe tbody tr th {\n        vertical-align: top;\n    }\n\n    .dataframe thead th {\n        text-align: right;\n    }\n</style>\n<table border=\"1\" class=\"dataframe\">\n  <thead>\n    <tr style=\"text-align: right;\">\n      <th></th>\n      <th>Economic Activities</th>\n      <th>Nepal</th>\n    </tr>\n  </thead>\n  <tbody>\n    <tr>\n      <th>0</th>\n      <td>GDP</td>\n      <td>24870.0</td>\n    </tr>\n    <tr>\n      <th>1</th>\n      <td>GDP growth rate</td>\n      <td>7.5</td>\n    </tr>\n    <tr>\n      <th>2</th>\n      <td>GDP per capita</td>\n      <td>848.7</td>\n    </tr>\n    <tr>\n      <th>3</th>\n      <td>Economy: Agriculture</td>\n      <td>29.4</td>\n    </tr>\n    <tr>\n      <th>4</th>\n      <td>Economy: Industry</td>\n      <td>14.6</td>\n    </tr>\n  </tbody>\n</table>\n</div>",
                        "text/plain": "    Economic Activities    Nepal\n0                   GDP  24870.0\n1       GDP growth rate      7.5\n2        GDP per capita    848.7\n3  Economy: Agriculture     29.4\n4     Economy: Industry     14.6"
                    },
                    "execution_count": 3,
                    "metadata": {},
                    "output_type": "execute_result"
                }
            ],
            "source": "# The code was removed by Watson Studio for sharing."
        },
        {
            "cell_type": "code",
            "execution_count": null,
            "metadata": {},
            "outputs": [],
            "source": ""
        }
    ],
    "metadata": {
        "kernelspec": {
            "display_name": "Python 3.6",
            "language": "python",
            "name": "python3"
        },
        "language_info": {
            "codemirror_mode": {
                "name": "ipython",
                "version": 3
            },
            "file_extension": ".py",
            "mimetype": "text/x-python",
            "name": "python",
            "nbconvert_exporter": "python",
            "pygments_lexer": "ipython3",
            "version": "3.6.9"
        }
    },
    "nbformat": 4,
    "nbformat_minor": 1
}