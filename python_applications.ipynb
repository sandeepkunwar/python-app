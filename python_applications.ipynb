{
 "cells": [
  {
   "cell_type": "markdown",
   "metadata": {},
   "source": [
    "## multiplication app"
   ]
  },
  {
   "cell_type": "code",
   "execution_count": null,
   "metadata": {},
   "outputs": [],
   "source": [
    "print (\"welcome to the multiplication app.\")\n",
    "name= input (\"hello, what is your name :\").title().strip()\n",
    "num = int(input('enter the no. you want '))\n",
    "print ('\\nmultiplication table is : \\n')\n",
    "for i in range (10):\n",
    "    print(str(num) + \" * \" + str(i+1) + \" = \" + str(num*(i+1)))\n",
    "print ('\\nsquared table is : \\n')\n",
    "for j in range (10):\n",
    "    print(str(num) + \" ** \" + str(j+1) + \" = \" + str(num**(j+1)))"
   ]
  },
  {
   "cell_type": "markdown",
   "metadata": {},
   "source": [
    "## grocery app"
   ]
  },
  {
   "cell_type": "code",
   "execution_count": null,
   "metadata": {},
   "outputs": [],
   "source": [
    "import datetime\n",
    "time = datetime.datetime.now()\n",
    "month =str(time.month)\n",
    "day = str(time.day)\n",
    "hour = time.hour\n",
    "print(month)\n",
    "print(day)\n",
    "hour"
   ]
  },
  {
   "cell_type": "code",
   "execution_count": null,
   "metadata": {},
   "outputs": [],
   "source": [
    "import datetime\n",
    "time = datetime.datetime.now()\n",
    "month = str(time.month)\n",
    "day = str(time.day)\n",
    "hour = str(time.hour)\n",
    "minute = str(time.minute)\n",
    "\n",
    "#Welcome message\n",
    "foods = [\"Meat\", \"Cheese\"]\n",
    "print(\"Welcome to the Grocery List App\")\n",
    "print(\"Current Date and Time: \" + month + \"/\" + day + \"\\t\" + hour + \":\" + minute)\n",
    "print(\"You currently have \" + foods[0] + \" and \" + foods[1] + \" in your list.\")\n",
    "\n",
    "#Get user input\n",
    "food = input(\"\\nType of food to add to the grocery list: \")\n",
    "foods.append(food.title())\n",
    "food = input(\"Type of food to add to the grocery list: \")\n",
    "foods.append(food.title())\n",
    "food = input(\"Type of food to add to the grocery list: \")\n",
    "foods.append(food.title())\n",
    "\n",
    " #Print and sort the list\n",
    "print(\"\\nHere is your grocery list: \")\n",
    "\n",
    "\n",
    "print(foods)\n",
    "foods.sort()\n",
    "print(\"Here is your grocery list sorted: \")\n",
    "print(foods)\n",
    "\n",
    "#Simulate Shopping\n",
    "print(\"\\nSimulating grocery shopping...\")\n",
    "print(\"\\nCurrent grocery list: \" + str(len(foods)) + \" items\")\n",
    "print(foods)\n",
    "buy_food = input(\"What food did you just buy: \").title()\n",
    "foods.remove(buy_food)\n",
    "print(\"Removing \" + buy_food + \" from the list...\")\n",
    "             \n",
    "print(\"\\nCurrent grocery list: \" + str(len(foods)) + \" items\")\n",
    "print(foods)\n",
    "buy_food = input(\"What food did you just buy: \").title()\n",
    "foods.remove(buy_food)\n",
    "print(\"Removing \" + buy_food + \" from the list...\")\n",
    "\n",
    "print(\"\\nCurrent grocery list: \" + str(len(foods)) + \" items\")\n",
    "print(foods)\n",
    "buy_food = input(\"What food did you just buy: \").title()\n",
    "foods.remove(buy_food)\n",
    "print(\"Removing \" + buy_food + \" from the list...\")\n",
    "             \n",
    "#The store is out of an item...\n",
    "print(\"\\nCurrent grocery list: \" + str(len(foods)) + \" items\")\n",
    "print(foods)\n",
    "no_item = foods.pop()\n",
    "print(\"\\nSorry, the store is out of \" + no_item + \".\")\n",
    "new_food = input(\"What food would you like instead: \").title()\n",
    "foods.insert(0, new_food)\n",
    "\n",
    "print(\"\\nHere is what remains on your grocery list: \")\n",
    "print(foods)"
   ]
  },
  {
   "cell_type": "code",
   "execution_count": null,
   "metadata": {},
   "outputs": [],
   "source": [
    "import datetime\n",
    "time = datetime.datetime.now()\n",
    "month = str(time.month)\n",
    "day = str(time.day)\n",
    "hour = str(time.hour)\n",
    "minute = str(time.minute)\n",
    "\n",
    "foods = [\"Meat\", \"Cheese\"]\n",
    "print(\"Welcome to the Grocery List App\")\n",
    "print(\"Current Date and Time: \" + month + \"/\" + day + \"\\t\" + hour + \":\" + minute)\n",
    "print(\"You currently have \" + foods[0] + \" and \" + foods[1] + \" in your list.\")\n",
    "\n",
    "#Get user input\n",
    "food = input(\"\\nType of food to add to the grocery list: \")\n",
    "foods.append(food.title())\n",
    "food = input(\"Type of food to add to the grocery list: \")\n",
    "foods.append(food.title())\n",
    "food = input(\"Type of food to add to the grocery list: \")\n",
    "foods.append(food.title()\n"
   ]
  },
  {
   "cell_type": "code",
   "execution_count": null,
   "metadata": {},
   "outputs": [],
   "source": []
  }
 ],
 "metadata": {
  "kernelspec": {
   "display_name": "Python 3",
   "language": "python",
   "name": "python3"
  },
  "language_info": {
   "codemirror_mode": {
    "name": "ipython",
    "version": 3
   },
   "file_extension": ".py",
   "mimetype": "text/x-python",
   "name": "python",
   "nbconvert_exporter": "python",
   "pygments_lexer": "ipython3",
   "version": "3.7.6"
  }
 },
 "nbformat": 4,
 "nbformat_minor": 4
}
